{
 "cells": [
  {
   "cell_type": "markdown",
   "metadata": {
    "slideshow": {
     "slide_type": "slide"
    }
   },
   "source": [
    "### CASA0002\n",
    "\n",
    "# Urban Simulation\n",
    "***\n",
    "## Linear Algebra with Numpy\n",
    "\n",
    "Mateo Neira\n",
    "***\n",
    "\n",
    "For both Spatial Interaction Models and Urban Networks it's important to have a basic understanding of linear algebra concepts and to be able to work with and manipulate vectors and matrices in python. \n",
    "\n",
    "In this lab we will cover the basics of working with numpy, which will serve as a base for the rest of the practicals in this module.\n",
    "\n",
    "**Objectives**\n",
    "* Review basic numpy functions\n",
    "* define a vector and calculate a vector length and dot product\n",
    "* define a matrix and calculate a matrix multiplication, transpose, and inverse\n",
    "* eigenvalues and eigenvectors"
   ]
  },
  {
   "cell_type": "markdown",
   "metadata": {
    "slideshow": {
     "slide_type": "slide"
    }
   },
   "source": [
    "## Numpy\n",
    "\n",
    "Numpy is the fundamental package for scientific computing with Python. It provides numerical functions on _ndarray_ which are fixed size n-dimensional array data structures. Numpy is implemented in C where its memory is more efficiently stored. \n",
    "\n",
    "Numpy arrays form the core of nearly the entire ecosystem of data science tools in Python, so time spent learning to use numpy effectively will be useful not only in this module, but other data science applications as well. Here we will be using _ndarray_ to represent vectors and matrices. \n",
    "\n",
    "We can import numpy using:\n",
    "\n",
    "```python\n",
    "import numpy as np\n",
    "```\n",
    "\n"
   ]
  },
  {
   "cell_type": "code",
   "execution_count": 1,
   "metadata": {
    "slideshow": {
     "slide_type": "slide"
    }
   },
   "outputs": [
    {
     "data": {
      "text/plain": [
       "\u001b[0;31mType:\u001b[0m        module\n",
       "\u001b[0;31mString form:\u001b[0m <module 'numpy' from '/opt/conda/lib/python3.10/site-packages/numpy/__init__.py'>\n",
       "\u001b[0;31mFile:\u001b[0m        /opt/conda/lib/python3.10/site-packages/numpy/__init__.py\n",
       "\u001b[0;31mDocstring:\u001b[0m  \n",
       "NumPy\n",
       "=====\n",
       "\n",
       "Provides\n",
       "  1. An array object of arbitrary homogeneous items\n",
       "  2. Fast mathematical operations over arrays\n",
       "  3. Linear Algebra, Fourier Transforms, Random Number Generation\n",
       "\n",
       "How to use the documentation\n",
       "----------------------------\n",
       "Documentation is available in two forms: docstrings provided\n",
       "with the code, and a loose standing reference guide, available from\n",
       "`the NumPy homepage <https://numpy.org>`_.\n",
       "\n",
       "We recommend exploring the docstrings using\n",
       "`IPython <https://ipython.org>`_, an advanced Python shell with\n",
       "TAB-completion and introspection capabilities.  See below for further\n",
       "instructions.\n",
       "\n",
       "The docstring examples assume that `numpy` has been imported as `np`::\n",
       "\n",
       "  >>> import numpy as np\n",
       "\n",
       "Code snippets are indicated by three greater-than signs::\n",
       "\n",
       "  >>> x = 42\n",
       "  >>> x = x + 1\n",
       "\n",
       "Use the built-in ``help`` function to view a function's docstring::\n",
       "\n",
       "  >>> help(np.sort)\n",
       "  ... # doctest: +SKIP\n",
       "\n",
       "For some objects, ``np.info(obj)`` may provide additional help.  This is\n",
       "particularly true if you see the line \"Help on ufunc object:\" at the top\n",
       "of the help() page.  Ufuncs are implemented in C, not Python, for speed.\n",
       "The native Python help() does not know how to view their help, but our\n",
       "np.info() function does.\n",
       "\n",
       "To search for documents containing a keyword, do::\n",
       "\n",
       "  >>> np.lookfor('keyword')\n",
       "  ... # doctest: +SKIP\n",
       "\n",
       "General-purpose documents like a glossary and help on the basic concepts\n",
       "of numpy are available under the ``doc`` sub-module::\n",
       "\n",
       "  >>> from numpy import doc\n",
       "  >>> help(doc)\n",
       "  ... # doctest: +SKIP\n",
       "\n",
       "Available subpackages\n",
       "---------------------\n",
       "lib\n",
       "    Basic functions used by several sub-packages.\n",
       "random\n",
       "    Core Random Tools\n",
       "linalg\n",
       "    Core Linear Algebra Tools\n",
       "fft\n",
       "    Core FFT routines\n",
       "polynomial\n",
       "    Polynomial tools\n",
       "testing\n",
       "    NumPy testing tools\n",
       "distutils\n",
       "    Enhancements to distutils with support for\n",
       "    Fortran compilers support and more.\n",
       "\n",
       "Utilities\n",
       "---------\n",
       "test\n",
       "    Run numpy unittests\n",
       "show_config\n",
       "    Show numpy build configuration\n",
       "dual\n",
       "    Overwrite certain functions with high-performance SciPy tools.\n",
       "    Note: `numpy.dual` is deprecated.  Use the functions from NumPy or Scipy\n",
       "    directly instead of importing them from `numpy.dual`.\n",
       "matlib\n",
       "    Make everything matrices.\n",
       "__version__\n",
       "    NumPy version string\n",
       "\n",
       "Viewing documentation using IPython\n",
       "-----------------------------------\n",
       "Start IPython with the NumPy profile (``ipython -p numpy``), which will\n",
       "import `numpy` under the alias `np`.  Then, use the ``cpaste`` command to\n",
       "paste examples into the shell.  To see which functions are available in\n",
       "`numpy`, type ``np.<TAB>`` (where ``<TAB>`` refers to the TAB key), or use\n",
       "``np.*cos*?<ENTER>`` (where ``<ENTER>`` refers to the ENTER key) to narrow\n",
       "down the list.  To view the docstring for a function, use\n",
       "``np.cos?<ENTER>`` (to view the docstring) and ``np.cos??<ENTER>`` (to view\n",
       "the source code).\n",
       "\n",
       "Copies vs. in-place operation\n",
       "-----------------------------\n",
       "Most of the functions in `numpy` return a copy of the array argument\n",
       "(e.g., `np.sort`).  In-place versions of these functions are often\n",
       "available as array methods, i.e. ``x = np.array([1,2,3]); x.sort()``.\n",
       "Exceptions to this rule are documented.\n"
      ]
     },
     "metadata": {},
     "output_type": "display_data"
    }
   ],
   "source": [
    "### let's first import the numpy library\n",
    "import numpy as np\n",
    "\n",
    "np?"
   ]
  },
  {
   "cell_type": "markdown",
   "metadata": {
    "slideshow": {
     "slide_type": "slide"
    }
   },
   "source": [
    "There are different types of objects (or structures) in linear algebra:\n",
    "* Scalar: Single number\n",
    "* Vector: Array of numbers\n",
    "* Matrix: 2-dimensional array of numbers\n",
    "* Tensor: N-dimensional array of numbers where n > 2"
   ]
  },
  {
   "cell_type": "markdown",
   "metadata": {
    "slideshow": {
     "slide_type": "slide"
    }
   },
   "source": [
    "### Numpy Arrays - Vectors\n",
    "\n",
    "![1d-array](https://raw.githubusercontent.com/mateoneira/urban_simulation/main/practicals/week1/images/1d.png)\n",
    "\n",
    "> $x \\in \\mathbb{R}^n$\n",
    " \n",
    "One dimensional ndarray represent a vector of elements.\n",
    "\n",
    "For example we can create the following vector $\\vec{x} = \\begin{bmatrix}2 & 3 & 4 \\end{bmatrix}$ in numpy:\n",
    "\n",
    "```python\n",
    "x = np.array([2,3,4])\n",
    "```"
   ]
  },
  {
   "cell_type": "code",
   "execution_count": 2,
   "metadata": {
    "slideshow": {
     "slide_type": "subslide"
    }
   },
   "outputs": [
    {
     "name": "stdout",
     "output_type": "stream",
     "text": [
      "1\n",
      "16\n",
      "(16,)\n",
      "int64\n"
     ]
    }
   ],
   "source": [
    "### make a 1d array\n",
    "x=np.array([1,1,1,1,1,1,1,2,2,3,4,5,6,7,8,10])\n",
    "\n",
    "print (x.ndim)\n",
    "print (x.size)\n",
    "print (x.shape)\n",
    "\n",
    "# similar to python data type (int,float,bool)\n",
    "print (x.dtype)"
   ]
  },
  {
   "cell_type": "markdown",
   "metadata": {
    "slideshow": {
     "slide_type": "slide"
    }
   },
   "source": [
    "### Numpy Arrays - Matrix\n",
    "\n",
    "![matrix](https://raw.githubusercontent.com/mateoneira/urban_simulation/main/practicals/week1/images/2d.png)\n",
    "\n",
    "> $X \\in \\mathbb{R}^{n*m}$\n",
    "\n",
    "Two dimensional ndarray represents a matrix of elements.\n",
    "\n",
    "For example we can create the following matrix $ X = \\begin{bmatrix} 1 & 2 & 3 \\\\ 4 & 5 & 6 \\end{bmatrix}$ in numpy:\n",
    "\n",
    "> X = np.array([[1, 2, 3], [4, 5, 6]])"
   ]
  },
  {
   "cell_type": "code",
   "execution_count": 3,
   "metadata": {
    "slideshow": {
     "slide_type": "subslide"
    }
   },
   "outputs": [
    {
     "name": "stdout",
     "output_type": "stream",
     "text": [
      "2\n",
      "6\n",
      "(2, 3)\n",
      "int64\n"
     ]
    }
   ],
   "source": [
    "### make a 2d array\n",
    "X=np.array([[1,2,3],\n",
    "            [4,5,6]])\n",
    "\n",
    "print (X.ndim)\n",
    "print (X.size)\n",
    "print (X.shape)\n",
    "print (X.dtype)"
   ]
  },
  {
   "cell_type": "markdown",
   "metadata": {
    "slideshow": {
     "slide_type": "slide"
    }
   },
   "source": [
    "### Numpy Arrays - Multidimensional arrays (Tensors)\n",
    "\n",
    "![tensor](https://raw.githubusercontent.com/mateoneira/urban_simulation/main/practicals/week1/images/3d.png)\n",
    "\n",
    "We can also use ndarray to create multidimensional arrays. These are often useful to represent tensors.\n",
    "\n",
    "Images, for example can be represented as a three-dimensional array where the shape = (channel,height, width).\n",
    "\n",
    "```python\n",
    "X = np.array([ [[1, 2],[4, 5]],\n",
    "               [[2, 5], [6, 4]],\n",
    "               [[2, 5],[6, 4]]])\n",
    "```"
   ]
  },
  {
   "cell_type": "code",
   "execution_count": 5,
   "metadata": {
    "slideshow": {
     "slide_type": "subslide"
    }
   },
   "outputs": [
    {
     "name": "stdout",
     "output_type": "stream",
     "text": [
      "3\n",
      "12\n",
      "(3, 2, 2)\n",
      "int64\n"
     ]
    }
   ],
   "source": [
    "### make a 3d array\n",
    "# shape(dim, row, col)\n",
    "X=np.array( [[[1, 2], \n",
    "              [4, 5]],\n",
    "             \n",
    "             [[2, 5], \n",
    "              [6, 4]],\n",
    "             \n",
    "             [[2, 5], \n",
    "              [6, 4]]])\n",
    "\n",
    "print (X.ndim)\n",
    "print (X.size)\n",
    "print (X.shape)\n",
    "print (X.dtype)"
   ]
  },
  {
   "cell_type": "markdown",
   "metadata": {
    "slideshow": {
     "slide_type": "slide"
    }
   },
   "source": [
    "### indexing\n",
    "\n",
    "Individual elements in arrays can be retrieved using the [] indexer. We can also use the [] indexer to set values of individual array elements. Python is zero-indexed, meaning that the first element has to be accessed with index 0.\n",
    "\n",
    "```python \n",
    "x[0] = 5\n",
    "```"
   ]
  },
  {
   "cell_type": "code",
   "execution_count": 6,
   "metadata": {
    "slideshow": {
     "slide_type": "subslide"
    }
   },
   "outputs": [
    {
     "name": "stdout",
     "output_type": "stream",
     "text": [
      "5\n",
      "[5 0 8 9]\n"
     ]
    }
   ],
   "source": [
    "x=np.array([5,3,8,9])\n",
    "\n",
    "### indexing\n",
    "print(x[0])\n",
    "\n",
    "### setting the value of individual element\n",
    "### this will set the second element in the vector to 0\n",
    "x[1]=0\n",
    "print(x)"
   ]
  },
  {
   "cell_type": "markdown",
   "metadata": {
    "slideshow": {
     "slide_type": "slide"
    }
   },
   "source": [
    "In multi-dimensional arrays, items can be accessed using a comma-separated tuple of indices. \n",
    "\n",
    "For example the element $x_{1,2}$ from the matrix $X$ can be accessed using:\n",
    "\n",
    "```python\n",
    "X[0,1]\n",
    "```"
   ]
  },
  {
   "cell_type": "code",
   "execution_count": 7,
   "metadata": {
    "slideshow": {
     "slide_type": "subslide"
    }
   },
   "outputs": [
    {
     "name": "stdout",
     "output_type": "stream",
     "text": [
      "[[1 2 3]\n",
      " [4 5 6]]\n",
      "2\n"
     ]
    },
    {
     "data": {
      "text/plain": [
       "array([[ 1, 10,  3],\n",
       "       [ 4,  5,  6]])"
      ]
     },
     "execution_count": 7,
     "metadata": {},
     "output_type": "execute_result"
    }
   ],
   "source": [
    "X = np.array([[1, 2, 3], \n",
    "              [4, 5, 6]])\n",
    "print(X)\n",
    "print(X[0,1])\n",
    "\n",
    "X[0,1] = 10\n",
    "X"
   ]
  },
  {
   "cell_type": "markdown",
   "metadata": {
    "slideshow": {
     "slide_type": "subslide"
    }
   },
   "source": [
    "Values can also be modified in multi-dimensional arrays using the same index notation."
   ]
  },
  {
   "cell_type": "code",
   "execution_count": 8,
   "metadata": {
    "slideshow": {
     "slide_type": "subslide"
    }
   },
   "outputs": [
    {
     "data": {
      "text/plain": [
       "array([[ 1, 10,  3],\n",
       "       [ 4,  5, 10]])"
      ]
     },
     "execution_count": 8,
     "metadata": {},
     "output_type": "execute_result"
    }
   ],
   "source": [
    "X[1,2]=10\n",
    "X"
   ]
  },
  {
   "cell_type": "markdown",
   "metadata": {
    "slideshow": {
     "slide_type": "slide"
    }
   },
   "source": [
    "### slicing\n",
    "\n",
    "In the same way that we can use [] to access individual elements, we can also use them to access subarrays with the *slice* notation by using colon (:). \n",
    "\n",
    "```python \n",
    "x[start:stop:step]\n",
    "```\n",
    "\n",
    "By default these values take start = 0, stop = size of dimension, step = 1"
   ]
  },
  {
   "cell_type": "code",
   "execution_count": 9,
   "metadata": {
    "slideshow": {
     "slide_type": "subslide"
    }
   },
   "outputs": [
    {
     "name": "stdout",
     "output_type": "stream",
     "text": [
      "[5 0 8 9]\n"
     ]
    },
    {
     "data": {
      "text/plain": [
       "array([5, 0])"
      ]
     },
     "execution_count": 9,
     "metadata": {},
     "output_type": "execute_result"
    }
   ],
   "source": [
    "### get first two elements\n",
    "x=np.array([5,0,8,9])\n",
    "print(x)\n",
    "x[:2]"
   ]
  },
  {
   "cell_type": "code",
   "execution_count": 10,
   "metadata": {
    "slideshow": {
     "slide_type": "subslide"
    }
   },
   "outputs": [
    {
     "data": {
      "text/plain": [
       "array([8, 9])"
      ]
     },
     "execution_count": 10,
     "metadata": {},
     "output_type": "execute_result"
    }
   ],
   "source": [
    "### get all elements after second\n",
    "x[2:]"
   ]
  },
  {
   "cell_type": "code",
   "execution_count": 11,
   "metadata": {
    "slideshow": {
     "slide_type": "subslide"
    }
   },
   "outputs": [
    {
     "data": {
      "text/plain": [
       "array([8, 9])"
      ]
     },
     "execution_count": 11,
     "metadata": {},
     "output_type": "execute_result"
    }
   ],
   "source": [
    "## elements in the middle of the array\n",
    "x[2:4]"
   ]
  },
  {
   "cell_type": "code",
   "execution_count": 12,
   "metadata": {
    "slideshow": {
     "slide_type": "subslide"
    }
   },
   "outputs": [
    {
     "name": "stdout",
     "output_type": "stream",
     "text": [
      "[[ 1 10  3]\n",
      " [ 4  5  6]]\n"
     ]
    },
    {
     "data": {
      "text/plain": [
       "array([[ 1, 10],\n",
       "       [ 4,  5]])"
      ]
     },
     "execution_count": 12,
     "metadata": {},
     "output_type": "execute_result"
    }
   ],
   "source": [
    "## similarly with multi-dimensional arrays\n",
    "## get first 2 columns and first 2 rows\n",
    "X = np.array([[ 1, 10,  3], \n",
    "              [ 4,  5,  6]])\n",
    "print(X)\n",
    "X[:2,:2]"
   ]
  },
  {
   "cell_type": "markdown",
   "metadata": {
    "slideshow": {
     "slide_type": "slide"
    }
   },
   "source": [
    "### reshaping\n",
    "\n",
    "Reshaping is another useful operation, and can be called using the _.reshape_ method. \n",
    "\n",
    "As an example, we can create an array of the number 1 through 9, and reshape into a 3 x 3 grid:\n",
    "\n",
    "```python\n",
    "x = np.arange(1,10)\n",
    "X = x.reshape((3,3))\n",
    "```"
   ]
  },
  {
   "cell_type": "code",
   "execution_count": 13,
   "metadata": {
    "slideshow": {
     "slide_type": "subslide"
    }
   },
   "outputs": [
    {
     "name": "stdout",
     "output_type": "stream",
     "text": [
      "[1 2 3 4 5 6 7 8 9]\n",
      "[[1 2 3]\n",
      " [4 5 6]\n",
      " [7 8 9]]\n"
     ]
    }
   ],
   "source": [
    "# .arange() creates envely spaced values with a given interval\n",
    "x = np.arange(1,10)\n",
    "X = x.reshape((3,3))\n",
    "print(x)\n",
    "print(X)"
   ]
  },
  {
   "cell_type": "markdown",
   "metadata": {
    "slideshow": {
     "slide_type": "slide"
    }
   },
   "source": [
    "### mathematical function\n",
    "\n",
    "So far we have been discussing some of the basics of numpy, basically creating, accessing and modifying _ndarrays_. However, the power of **numpy** lies in its easy and flexible interface to optimize computation over these _ndarrays_."
   ]
  },
  {
   "cell_type": "markdown",
   "metadata": {
    "slideshow": {
     "slide_type": "slide"
    }
   },
   "source": [
    "### array arithmetic\n",
    "\n",
    "We can use python native arithmatic operators on _ndarrays_. For example, standard addition, subtraction, multiplication, and division can be used."
   ]
  },
  {
   "cell_type": "code",
   "execution_count": 15,
   "metadata": {
    "slideshow": {
     "slide_type": "subslide"
    }
   },
   "outputs": [
    {
     "name": "stdout",
     "output_type": "stream",
     "text": [
      "[2 3 4]\n",
      "[2 4 6]\n",
      "[1 4 9]\n"
     ]
    }
   ],
   "source": [
    "# arithmatic operations on arrays \n",
    "x = np.array([1, 2, 3])\n",
    "\n",
    "print (x + 1)\n",
    "print (x * 2)\n",
    "print (x ** 2)\n",
    "\n",
    "a = np.array([1,2])\n",
    "b = np.array([1,2,3,4])\n",
    "# a, b should be in the same shape to add\n",
    "# a+b"
   ]
  },
  {
   "cell_type": "markdown",
   "metadata": {
    "slideshow": {
     "slide_type": "slide"
    }
   },
   "source": [
    "Note that these operations are 'broadcasted' to the array. In a nutshell 'broadcasting' describes how numpy treats arrays with different shapes during arithmatic operation. These operations are run element-wise.\n",
    "\n",
    "see: https://numpy.org/doc/stable/user/basics.broadcasting.html"
   ]
  },
  {
   "cell_type": "markdown",
   "metadata": {
    "slideshow": {
     "slide_type": "slide"
    }
   },
   "source": [
    "We can also sum over a given axis in an array using the _.sum()_ method. \n",
    "\n",
    "Imagine we have \n",
    "$$ T = \\begin{bmatrix} 5 & 2 & 10 \\\\ 6 & 8 & 4 \\\\ 10 & 4 & 6  \\end{bmatrix}$$ \n",
    "\n",
    "representing a origin-destination matrix. We can quickly calculate totals at origins $O_i = \\sum_j T_{ij}$ and destination $D_j = \\sum_i T_{ij}$:\n",
    "\n",
    "```python\n",
    "Origins = T.sum(axis=1)\n",
    "Destinations = T.sum(axis=0)\n",
    "```"
   ]
  },
  {
   "cell_type": "code",
   "execution_count": 18,
   "metadata": {
    "slideshow": {
     "slide_type": "subslide"
    }
   },
   "outputs": [
    {
     "name": "stdout",
     "output_type": "stream",
     "text": [
      "[17 18 20]\n",
      "[21 14 20]\n"
     ]
    }
   ],
   "source": [
    "# define array\n",
    "T = np.array([[5,2,10],\n",
    "              [6,8,4],\n",
    "              [10,4,6]\n",
    "             ])\n",
    "\n",
    "# sum across rows\n",
    "origins = T.sum(axis=1)\n",
    "print(origins)\n",
    "\n",
    "# sums across columns\n",
    "destinations = T.sum(axis=0)\n",
    "print(destinations)"
   ]
  },
  {
   "cell_type": "markdown",
   "metadata": {
    "slideshow": {
     "slide_type": "slide"
    }
   },
   "source": [
    "### dot products\n",
    "\n",
    "The dot product of two vectors is the sum of the products of elements in the first vector with the corresponding elements in the second vector:\n",
    "\n",
    "$$ c = a \\cdot b $$\n",
    "\n",
    "```python\n",
    "c = np.dot(a,b)\n",
    "```\n",
    "\n",
    "Dot products are an essential part in matrix multiplication which we will discuss next."
   ]
  },
  {
   "cell_type": "code",
   "execution_count": 19,
   "metadata": {
    "slideshow": {
     "slide_type": "subslide"
    }
   },
   "outputs": [
    {
     "data": {
      "text/plain": [
       "32"
      ]
     },
     "execution_count": 19,
     "metadata": {},
     "output_type": "execute_result"
    }
   ],
   "source": [
    "# dot product between two arrays (product-sum between the two arrays)\n",
    "v1 = np.array([1,2,3])\n",
    "v2 = np.array([4,5,6])\n",
    "np.dot(v1,v2)"
   ]
  },
  {
   "cell_type": "markdown",
   "metadata": {
    "slideshow": {
     "slide_type": "slide"
    }
   },
   "source": [
    "### matrix operations\n",
    "\n",
    "we will end this practical with widely-used operations in linear algebra. Matrix operations for the basis for a lot of the methods we use in urban networks. Although a lot of the computation will be abstracted away once we start using other packages, such as networkx, its important to understand and be able to run these calculations directly with matrices. "
   ]
  },
  {
   "cell_type": "code",
   "execution_count": 20,
   "metadata": {
    "slideshow": {
     "slide_type": "subslide"
    }
   },
   "outputs": [
    {
     "data": {
      "text/plain": [
       "array([[9, 5, 1],\n",
       "       [9, 8, 3],\n",
       "       [2, 9, 6]])"
      ]
     },
     "execution_count": 20,
     "metadata": {},
     "output_type": "execute_result"
    }
   ],
   "source": [
    "# let's create a square matrix\n",
    "X = np.random.randint(10, size = (3,3))\n",
    "X"
   ]
  },
  {
   "cell_type": "markdown",
   "metadata": {
    "slideshow": {
     "slide_type": "slide"
    }
   },
   "source": [
    "**identity matrix**: the identity matrix contains ones on the main diagnal and zeros in all other positions.\n",
    "\n",
    "$$ I = \\begin{bmatrix} 1 &  0 & 0 \\\\ 0 & 1 & 0 \\\\ 0 & 0 & 1  \\end{bmatrix}$$"
   ]
  },
  {
   "cell_type": "code",
   "execution_count": 22,
   "metadata": {
    "slideshow": {
     "slide_type": "subslide"
    }
   },
   "outputs": [
    {
     "data": {
      "text/plain": [
       "array([[1, 0, 0, 0],\n",
       "       [0, 1, 0, 0],\n",
       "       [0, 0, 1, 0],\n",
       "       [0, 0, 0, 1]])"
      ]
     },
     "execution_count": 22,
     "metadata": {},
     "output_type": "execute_result"
    }
   ],
   "source": [
    "I = np.identity(4, dtype=int)\n",
    "I"
   ]
  },
  {
   "cell_type": "markdown",
   "metadata": {
    "slideshow": {
     "slide_type": "subslide"
    }
   },
   "source": [
    "The identity matrix has the property that when multiply any matrix of the same dimension, we get back the same matrix.\n",
    "\n",
    "$$ IX = X $$"
   ]
  },
  {
   "cell_type": "markdown",
   "metadata": {
    "slideshow": {
     "slide_type": "slide"
    }
   },
   "source": [
    "### matrix multiplication\n",
    "\n",
    "matrix multiplication is based on dot products of rows of one matrix with the columns of the other matrix.\n",
    "\n",
    "```python\n",
    "np.matmul(A,B)\n",
    "```\n",
    "\n",
    "Since the rows of the first matrix are multiplied by the columns of the second matrix, the number of rows of the first matrix must be equal to the number of columns of the second matrix. Please not that because of this, matrix multiplication is **not commutative**: $AB \\neq BA$"
   ]
  },
  {
   "cell_type": "code",
   "execution_count": 25,
   "metadata": {
    "slideshow": {
     "slide_type": "subslide"
    }
   },
   "outputs": [
    {
     "name": "stdout",
     "output_type": "stream",
     "text": [
      "[[3 0 4]\n",
      " [3 2 2]\n",
      " [1 1 4]]\n",
      "[[4 1 2]\n",
      " [4 1 1]\n",
      " [0 2 0]]\n"
     ]
    },
    {
     "data": {
      "text/plain": [
       "array([[12, 11,  6],\n",
       "       [20,  9,  8],\n",
       "       [ 8, 10,  3]])"
      ]
     },
     "execution_count": 25,
     "metadata": {},
     "output_type": "execute_result"
    }
   ],
   "source": [
    "A = np.random.randint(5, size = (3,3))\n",
    "B = np.random.randint(5, size = (3,3))\n",
    "\n",
    "print(A)\n",
    "print(B)\n",
    "\n",
    "# 행렬 곱셈\n",
    "np.matmul(A,B)\n",
    "\n",
    "#[[2 0 3]          [3 4 0]\n",
    "# [3 4 4]          [4 0 1]\n",
    "# [0 0 1]]         [3 0 0]"
   ]
  },
  {
   "cell_type": "markdown",
   "metadata": {
    "slideshow": {
     "slide_type": "slide"
    }
   },
   "source": [
    "### eigenvectors and eigenvalues\n",
    "\n",
    "If we have a square matrix $A$, a non-zero vector $v$ is an eingenvector for A with eigenvalue $\\lambda$ if:\n",
    "\n",
    "$$ A\\vec{v} = \\lambda \\vec{v}$$\n",
    "\n",
    "We can calculate the eigenvectors and corresponding eigenvalues of a matrix using the linear algebra functions of numpy.\n",
    "\n",
    "```python\n",
    "np.linalg.eig(A)\n",
    "```"
   ]
  },
  {
   "cell_type": "code",
   "execution_count": 29,
   "metadata": {
    "slideshow": {
     "slide_type": "subslide"
    }
   },
   "outputs": [
    {
     "name": "stdout",
     "output_type": "stream",
     "text": [
      "[[3 0 4]\n",
      " [3 2 2]\n",
      " [1 1 4]]\n",
      "[6.41780209+0.j         1.29109896+1.32703743j 1.29109896-1.32703743j]\n",
      "---------------------------------------------------------------\n",
      "[[-0.59067127+0.j         -0.10102062+0.5232819j  -0.10102062-0.5232819j ]\n",
      " [-0.62959193+0.j          0.79553003+0.j          0.79553003-0.j        ]\n",
      " [-0.50469937+0.j         -0.13044511-0.25707378j -0.13044511+0.25707378j]]\n"
     ]
    }
   ],
   "source": [
    "print(A)\n",
    "eigen_vals, eigen_vects = np.linalg.eig(A)\n",
    "print(eigen_vals)\n",
    "\n",
    "print('---------------------------------------------------------------')\n",
    "\n",
    "print(eigen_vects)"
   ]
  },
  {
   "cell_type": "markdown",
   "metadata": {
    "slideshow": {
     "slide_type": "notes"
    }
   },
   "source": [
    "### References\n",
    "\n",
    "* Python for Data Analysis: Data Wrangling with Pandas, NumPy, and Ipython (Wes McKinney)\n",
    "\n",
    "\n",
    "* Numpy reference: https://numpy.org/doc/stable/reference/index.html\n",
    "\n"
   ]
  }
 ],
 "metadata": {
  "celltoolbar": "Slideshow",
  "kernelspec": {
   "display_name": "Python 3 (ipykernel)",
   "language": "python",
   "name": "python3"
  },
  "language_info": {
   "codemirror_mode": {
    "name": "ipython",
    "version": 3
   },
   "file_extension": ".py",
   "mimetype": "text/x-python",
   "name": "python",
   "nbconvert_exporter": "python",
   "pygments_lexer": "ipython3",
   "version": "3.10.5"
  }
 },
 "nbformat": 4,
 "nbformat_minor": 4
}
